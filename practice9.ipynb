{
 "cells": [
  {
   "cell_type": "code",
   "execution_count": null,
   "metadata": {},
   "outputs": [],
   "source": [
    "import tensorflow as tf\n",
    "import glob\n",
    "import random\n",
    "import numpy as np"
   ]
  },
  {
   "cell_type": "code",
   "execution_count": null,
   "metadata": {},
   "outputs": [],
   "source": [
    "tf.config.list_physical_devices('GPU')"
   ]
  },
  {
   "cell_type": "code",
   "execution_count": null,
   "metadata": {},
   "outputs": [],
   "source": [
    "all_image_path = glob.glob(\"datasets/2_class/*/*.jpg\")\n",
    "random.shuffle(all_image_path)"
   ]
  },
  {
   "cell_type": "code",
   "execution_count": null,
   "metadata": {
    "scrolled": true
   },
   "outputs": [],
   "source": [
    "label_to_index = {\n",
    "                    \"airplane\": 0,\n",
    "                    \"lake\": 1\n",
    "                 }\n",
    "index_to_label = dict((g, k) for k, g in label_to_index.items())\n",
    "\n",
    "all_label = [img.split(\"/\")[2] for img in all_image_path]\n",
    "all_index = [label_to_index.get(label) for label in all_label]\n",
    "\n",
    "def load_image(path):\n",
    "    img = tf.io.read_file(path)\n",
    "    img_tensor = tf.image.decode_jpeg(img, channels=3)\n",
    "    img_tensor = tf.image.resize(img_tensor, [256, 256])\n",
    "    img_tensor = tf.cast(img_tensor, tf.float32)\n",
    "    img_tensor /= 255\n",
    "    \n",
    "    return img_tensor"
   ]
  },
  {
   "cell_type": "code",
   "execution_count": null,
   "metadata": {
    "scrolled": true
   },
   "outputs": [],
   "source": [
    "img_ds = tf.data.Dataset.from_tensor_slices(all_image_path)\n",
    "img_ds = img_ds.map(load_image)\n",
    "label_ds = tf.data.Dataset.from_tensor_slices(all_index)\n",
    "img_label_ds = tf.data.Dataset.zip((img_ds, label_ds))\n",
    "\n",
    "img_count = len(all_image_path)\n",
    "test_count = int(img_count * 0.2)\n",
    "train_count = img_count - test_count\n",
    "\n",
    "train_ds = img_label_ds.skip(test_count)\n",
    "test_ds = img_label_ds.take(test_count)\n",
    "\n",
    "batch_size = 16\n",
    "train_ds = train_ds.repeat().shuffle(100).batch(batch_size)\n",
    "test_ds = test_ds.batch(batch_size)"
   ]
  },
  {
   "cell_type": "code",
   "execution_count": null,
   "metadata": {},
   "outputs": [],
   "source": [
    "model = tf.keras.Sequential()\n",
    "model.add(tf.keras.layers.Conv2D(64, (3, 3), input_shape=(256, 256, 3), activation=\"relu\"))\n",
    "model.add(tf.keras.layers.Conv2D(64, (3, 3), activation=\"relu\", padding=\"same\"))\n",
    "model.add(tf.keras.layers.MaxPool2D())\n",
    "model.add(tf.keras.layers.Dropout(0.5))\n",
    "model.add(tf.keras.layers.Conv2D(128, (3, 3), activation=\"relu\", padding=\"same\"))\n",
    "model.add(tf.keras.layers.Conv2D(128, (3, 3), activation=\"relu\", padding=\"same\"))\n",
    "model.add(tf.keras.layers.MaxPool2D())\n",
    "model.add(tf.keras.layers.Dropout(0.5))\n",
    "model.add(tf.keras.layers.Conv2D(256, (3, 3), activation=\"relu\", padding=\"same\"))\n",
    "model.add(tf.keras.layers.Conv2D(256, (3, 3), activation=\"relu\", padding=\"same\"))\n",
    "model.add(tf.keras.layers.MaxPool2D())\n",
    "model.add(tf.keras.layers.Dropout(0.5))\n",
    "model.add(tf.keras.layers.Conv2D(512, (3, 3), activation=\"relu\", padding=\"same\"))\n",
    "model.add(tf.keras.layers.Conv2D(512, (3, 3), activation=\"relu\", padding=\"same\"))\n",
    "model.add(tf.keras.layers.MaxPool2D())\n",
    "model.add(tf.keras.layers.Dropout(0.5))\n",
    "model.add(tf.keras.layers.GlobalAveragePooling2D())\n",
    "model.add(tf.keras.layers.Dense(1024, activation=\"relu\"))\n",
    "model.add(tf.keras.layers.Dense(256, activation=\"relu\"))\n",
    "model.add(tf.keras.layers.Dense(1, activation=\"sigmoid\"))\n",
    "model.summary()"
   ]
  },
  {
   "cell_type": "code",
   "execution_count": null,
   "metadata": {},
   "outputs": [],
   "source": [
    "model.compile(optimizer=tf.keras.optimizers.Adam(0.0001), loss=tf.keras.losses.BinaryCrossentropy(), metrics=[\"acc\"])\n",
    "# steps_per_epoch = train_count / batch_size\n",
    "# val_steps = test_count / batch_size\n",
    "steps_per_epoch = 1\n",
    "val_steps = 1"
   ]
  },
  {
   "cell_type": "code",
   "execution_count": null,
   "metadata": {},
   "outputs": [],
   "source": [
    "history = model.fit(train_ds, epochs=1, \n",
    "                    steps_per_epoch=steps_per_epoch, \n",
    "                    validation_data=test_ds, \n",
    "                    validation_steps=val_steps)"
   ]
  },
  {
   "cell_type": "code",
   "execution_count": null,
   "metadata": {},
   "outputs": [],
   "source": []
  }
 ],
 "metadata": {
  "kernelspec": {
   "display_name": "Python 3",
   "language": "python",
   "name": "python3"
  },
  "language_info": {
   "codemirror_mode": {
    "name": "ipython",
    "version": 3
   },
   "file_extension": ".py",
   "mimetype": "text/x-python",
   "name": "python",
   "nbconvert_exporter": "python",
   "pygments_lexer": "ipython3",
   "version": "3.6.10"
  }
 },
 "nbformat": 4,
 "nbformat_minor": 4
}
